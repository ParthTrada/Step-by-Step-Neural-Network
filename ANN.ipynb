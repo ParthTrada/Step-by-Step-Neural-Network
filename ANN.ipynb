{
  "nbformat": 4,
  "nbformat_minor": 0,
  "metadata": {
    "colab": {
      "name": "ANN.ipynb",
      "provenance": [],
      "collapsed_sections": []
    },
    "kernelspec": {
      "name": "python3",
      "display_name": "Python 3"
    }
  },
  "cells": [
    {
      "cell_type": "code",
      "metadata": {
        "id": "S2IKEsXWS1Me",
        "colab_type": "code",
        "colab": {
          "resources": {
            "http://localhost:8080/nbextensions/google.colab/files.js": {
              "data": "Ly8gQ29weXJpZ2h0IDIwMTcgR29vZ2xlIExMQwovLwovLyBMaWNlbnNlZCB1bmRlciB0aGUgQXBhY2hlIExpY2Vuc2UsIFZlcnNpb24gMi4wICh0aGUgIkxpY2Vuc2UiKTsKLy8geW91IG1heSBub3QgdXNlIHRoaXMgZmlsZSBleGNlcHQgaW4gY29tcGxpYW5jZSB3aXRoIHRoZSBMaWNlbnNlLgovLyBZb3UgbWF5IG9idGFpbiBhIGNvcHkgb2YgdGhlIExpY2Vuc2UgYXQKLy8KLy8gICAgICBodHRwOi8vd3d3LmFwYWNoZS5vcmcvbGljZW5zZXMvTElDRU5TRS0yLjAKLy8KLy8gVW5sZXNzIHJlcXVpcmVkIGJ5IGFwcGxpY2FibGUgbGF3IG9yIGFncmVlZCB0byBpbiB3cml0aW5nLCBzb2Z0d2FyZQovLyBkaXN0cmlidXRlZCB1bmRlciB0aGUgTGljZW5zZSBpcyBkaXN0cmlidXRlZCBvbiBhbiAiQVMgSVMiIEJBU0lTLAovLyBXSVRIT1VUIFdBUlJBTlRJRVMgT1IgQ09ORElUSU9OUyBPRiBBTlkgS0lORCwgZWl0aGVyIGV4cHJlc3Mgb3IgaW1wbGllZC4KLy8gU2VlIHRoZSBMaWNlbnNlIGZvciB0aGUgc3BlY2lmaWMgbGFuZ3VhZ2UgZ292ZXJuaW5nIHBlcm1pc3Npb25zIGFuZAovLyBsaW1pdGF0aW9ucyB1bmRlciB0aGUgTGljZW5zZS4KCi8qKgogKiBAZmlsZW92ZXJ2aWV3IEhlbHBlcnMgZm9yIGdvb2dsZS5jb2xhYiBQeXRob24gbW9kdWxlLgogKi8KKGZ1bmN0aW9uKHNjb3BlKSB7CmZ1bmN0aW9uIHNwYW4odGV4dCwgc3R5bGVBdHRyaWJ1dGVzID0ge30pIHsKICBjb25zdCBlbGVtZW50ID0gZG9jdW1lbnQuY3JlYXRlRWxlbWVudCgnc3BhbicpOwogIGVsZW1lbnQudGV4dENvbnRlbnQgPSB0ZXh0OwogIGZvciAoY29uc3Qga2V5IG9mIE9iamVjdC5rZXlzKHN0eWxlQXR0cmlidXRlcykpIHsKICAgIGVsZW1lbnQuc3R5bGVba2V5XSA9IHN0eWxlQXR0cmlidXRlc1trZXldOwogIH0KICByZXR1cm4gZWxlbWVudDsKfQoKLy8gTWF4IG51bWJlciBvZiBieXRlcyB3aGljaCB3aWxsIGJlIHVwbG9hZGVkIGF0IGEgdGltZS4KY29uc3QgTUFYX1BBWUxPQURfU0laRSA9IDEwMCAqIDEwMjQ7Ci8vIE1heCBhbW91bnQgb2YgdGltZSB0byBibG9jayB3YWl0aW5nIGZvciB0aGUgdXNlci4KY29uc3QgRklMRV9DSEFOR0VfVElNRU9VVF9NUyA9IDMwICogMTAwMDsKCmZ1bmN0aW9uIF91cGxvYWRGaWxlcyhpbnB1dElkLCBvdXRwdXRJZCkgewogIGNvbnN0IHN0ZXBzID0gdXBsb2FkRmlsZXNTdGVwKGlucHV0SWQsIG91dHB1dElkKTsKICBjb25zdCBvdXRwdXRFbGVtZW50ID0gZG9jdW1lbnQuZ2V0RWxlbWVudEJ5SWQob3V0cHV0SWQpOwogIC8vIENhY2hlIHN0ZXBzIG9uIHRoZSBvdXRwdXRFbGVtZW50IHRvIG1ha2UgaXQgYXZhaWxhYmxlIGZvciB0aGUgbmV4dCBjYWxsCiAgLy8gdG8gdXBsb2FkRmlsZXNDb250aW51ZSBmcm9tIFB5dGhvbi4KICBvdXRwdXRFbGVtZW50LnN0ZXBzID0gc3RlcHM7CgogIHJldHVybiBfdXBsb2FkRmlsZXNDb250aW51ZShvdXRwdXRJZCk7Cn0KCi8vIFRoaXMgaXMgcm91Z2hseSBhbiBhc3luYyBnZW5lcmF0b3IgKG5vdCBzdXBwb3J0ZWQgaW4gdGhlIGJyb3dzZXIgeWV0KSwKLy8gd2hlcmUgdGhlcmUgYXJlIG11bHRpcGxlIGFzeW5jaHJvbm91cyBzdGVwcyBhbmQgdGhlIFB5dGhvbiBzaWRlIGlzIGdvaW5nCi8vIHRvIHBvbGwgZm9yIGNvbXBsZXRpb24gb2YgZWFjaCBzdGVwLgovLyBUaGlzIHVzZXMgYSBQcm9taXNlIHRvIGJsb2NrIHRoZSBweXRob24gc2lkZSBvbiBjb21wbGV0aW9uIG9mIGVhY2ggc3RlcCwKLy8gdGhlbiBwYXNzZXMgdGhlIHJlc3VsdCBvZiB0aGUgcHJldmlvdXMgc3RlcCBhcyB0aGUgaW5wdXQgdG8gdGhlIG5leHQgc3RlcC4KZnVuY3Rpb24gX3VwbG9hZEZpbGVzQ29udGludWUob3V0cHV0SWQpIHsKICBjb25zdCBvdXRwdXRFbGVtZW50ID0gZG9jdW1lbnQuZ2V0RWxlbWVudEJ5SWQob3V0cHV0SWQpOwogIGNvbnN0IHN0ZXBzID0gb3V0cHV0RWxlbWVudC5zdGVwczsKCiAgY29uc3QgbmV4dCA9IHN0ZXBzLm5leHQob3V0cHV0RWxlbWVudC5sYXN0UHJvbWlzZVZhbHVlKTsKICByZXR1cm4gUHJvbWlzZS5yZXNvbHZlKG5leHQudmFsdWUucHJvbWlzZSkudGhlbigodmFsdWUpID0+IHsKICAgIC8vIENhY2hlIHRoZSBsYXN0IHByb21pc2UgdmFsdWUgdG8gbWFrZSBpdCBhdmFpbGFibGUgdG8gdGhlIG5leHQKICAgIC8vIHN0ZXAgb2YgdGhlIGdlbmVyYXRvci4KICAgIG91dHB1dEVsZW1lbnQubGFzdFByb21pc2VWYWx1ZSA9IHZhbHVlOwogICAgcmV0dXJuIG5leHQudmFsdWUucmVzcG9uc2U7CiAgfSk7Cn0KCi8qKgogKiBHZW5lcmF0b3IgZnVuY3Rpb24gd2hpY2ggaXMgY2FsbGVkIGJldHdlZW4gZWFjaCBhc3luYyBzdGVwIG9mIHRoZSB1cGxvYWQKICogcHJvY2Vzcy4KICogQHBhcmFtIHtzdHJpbmd9IGlucHV0SWQgRWxlbWVudCBJRCBvZiB0aGUgaW5wdXQgZmlsZSBwaWNrZXIgZWxlbWVudC4KICogQHBhcmFtIHtzdHJpbmd9IG91dHB1dElkIEVsZW1lbnQgSUQgb2YgdGhlIG91dHB1dCBkaXNwbGF5LgogKiBAcmV0dXJuIHshSXRlcmFibGU8IU9iamVjdD59IEl0ZXJhYmxlIG9mIG5leHQgc3RlcHMuCiAqLwpmdW5jdGlvbiogdXBsb2FkRmlsZXNTdGVwKGlucHV0SWQsIG91dHB1dElkKSB7CiAgY29uc3QgaW5wdXRFbGVtZW50ID0gZG9jdW1lbnQuZ2V0RWxlbWVudEJ5SWQoaW5wdXRJZCk7CiAgaW5wdXRFbGVtZW50LmRpc2FibGVkID0gZmFsc2U7CgogIGNvbnN0IG91dHB1dEVsZW1lbnQgPSBkb2N1bWVudC5nZXRFbGVtZW50QnlJZChvdXRwdXRJZCk7CiAgb3V0cHV0RWxlbWVudC5pbm5lckhUTUwgPSAnJzsKCiAgY29uc3QgcGlja2VkUHJvbWlzZSA9IG5ldyBQcm9taXNlKChyZXNvbHZlKSA9PiB7CiAgICBpbnB1dEVsZW1lbnQuYWRkRXZlbnRMaXN0ZW5lcignY2hhbmdlJywgKGUpID0+IHsKICAgICAgcmVzb2x2ZShlLnRhcmdldC5maWxlcyk7CiAgICB9KTsKICB9KTsKCiAgY29uc3QgY2FuY2VsID0gZG9jdW1lbnQuY3JlYXRlRWxlbWVudCgnYnV0dG9uJyk7CiAgaW5wdXRFbGVtZW50LnBhcmVudEVsZW1lbnQuYXBwZW5kQ2hpbGQoY2FuY2VsKTsKICBjYW5jZWwudGV4dENvbnRlbnQgPSAnQ2FuY2VsIHVwbG9hZCc7CiAgY29uc3QgY2FuY2VsUHJvbWlzZSA9IG5ldyBQcm9taXNlKChyZXNvbHZlKSA9PiB7CiAgICBjYW5jZWwub25jbGljayA9ICgpID0+IHsKICAgICAgcmVzb2x2ZShudWxsKTsKICAgIH07CiAgfSk7CgogIC8vIENhbmNlbCB1cGxvYWQgaWYgdXNlciBoYXNuJ3QgcGlja2VkIGFueXRoaW5nIGluIHRpbWVvdXQuCiAgY29uc3QgdGltZW91dFByb21pc2UgPSBuZXcgUHJvbWlzZSgocmVzb2x2ZSkgPT4gewogICAgc2V0VGltZW91dCgoKSA9PiB7CiAgICAgIHJlc29sdmUobnVsbCk7CiAgICB9LCBGSUxFX0NIQU5HRV9USU1FT1VUX01TKTsKICB9KTsKCiAgLy8gV2FpdCBmb3IgdGhlIHVzZXIgdG8gcGljayB0aGUgZmlsZXMuCiAgY29uc3QgZmlsZXMgPSB5aWVsZCB7CiAgICBwcm9taXNlOiBQcm9taXNlLnJhY2UoW3BpY2tlZFByb21pc2UsIHRpbWVvdXRQcm9taXNlLCBjYW5jZWxQcm9taXNlXSksCiAgICByZXNwb25zZTogewogICAgICBhY3Rpb246ICdzdGFydGluZycsCiAgICB9CiAgfTsKCiAgaWYgKCFmaWxlcykgewogICAgcmV0dXJuIHsKICAgICAgcmVzcG9uc2U6IHsKICAgICAgICBhY3Rpb246ICdjb21wbGV0ZScsCiAgICAgIH0KICAgIH07CiAgfQoKICBjYW5jZWwucmVtb3ZlKCk7CgogIC8vIERpc2FibGUgdGhlIGlucHV0IGVsZW1lbnQgc2luY2UgZnVydGhlciBwaWNrcyBhcmUgbm90IGFsbG93ZWQuCiAgaW5wdXRFbGVtZW50LmRpc2FibGVkID0gdHJ1ZTsKCiAgZm9yIChjb25zdCBmaWxlIG9mIGZpbGVzKSB7CiAgICBjb25zdCBsaSA9IGRvY3VtZW50LmNyZWF0ZUVsZW1lbnQoJ2xpJyk7CiAgICBsaS5hcHBlbmQoc3BhbihmaWxlLm5hbWUsIHtmb250V2VpZ2h0OiAnYm9sZCd9KSk7CiAgICBsaS5hcHBlbmQoc3BhbigKICAgICAgICBgKCR7ZmlsZS50eXBlIHx8ICduL2EnfSkgLSAke2ZpbGUuc2l6ZX0gYnl0ZXMsIGAgKwogICAgICAgIGBsYXN0IG1vZGlmaWVkOiAkewogICAgICAgICAgICBmaWxlLmxhc3RNb2RpZmllZERhdGUgPyBmaWxlLmxhc3RNb2RpZmllZERhdGUudG9Mb2NhbGVEYXRlU3RyaW5nKCkgOgogICAgICAgICAgICAgICAgICAgICAgICAgICAgICAgICAgICAnbi9hJ30gLSBgKSk7CiAgICBjb25zdCBwZXJjZW50ID0gc3BhbignMCUgZG9uZScpOwogICAgbGkuYXBwZW5kQ2hpbGQocGVyY2VudCk7CgogICAgb3V0cHV0RWxlbWVudC5hcHBlbmRDaGlsZChsaSk7CgogICAgY29uc3QgZmlsZURhdGFQcm9taXNlID0gbmV3IFByb21pc2UoKHJlc29sdmUpID0+IHsKICAgICAgY29uc3QgcmVhZGVyID0gbmV3IEZpbGVSZWFkZXIoKTsKICAgICAgcmVhZGVyLm9ubG9hZCA9IChlKSA9PiB7CiAgICAgICAgcmVzb2x2ZShlLnRhcmdldC5yZXN1bHQpOwogICAgICB9OwogICAgICByZWFkZXIucmVhZEFzQXJyYXlCdWZmZXIoZmlsZSk7CiAgICB9KTsKICAgIC8vIFdhaXQgZm9yIHRoZSBkYXRhIHRvIGJlIHJlYWR5LgogICAgbGV0IGZpbGVEYXRhID0geWllbGQgewogICAgICBwcm9taXNlOiBmaWxlRGF0YVByb21pc2UsCiAgICAgIHJlc3BvbnNlOiB7CiAgICAgICAgYWN0aW9uOiAnY29udGludWUnLAogICAgICB9CiAgICB9OwoKICAgIC8vIFVzZSBhIGNodW5rZWQgc2VuZGluZyB0byBhdm9pZCBtZXNzYWdlIHNpemUgbGltaXRzLiBTZWUgYi82MjExNTY2MC4KICAgIGxldCBwb3NpdGlvbiA9IDA7CiAgICB3aGlsZSAocG9zaXRpb24gPCBmaWxlRGF0YS5ieXRlTGVuZ3RoKSB7CiAgICAgIGNvbnN0IGxlbmd0aCA9IE1hdGgubWluKGZpbGVEYXRhLmJ5dGVMZW5ndGggLSBwb3NpdGlvbiwgTUFYX1BBWUxPQURfU0laRSk7CiAgICAgIGNvbnN0IGNodW5rID0gbmV3IFVpbnQ4QXJyYXkoZmlsZURhdGEsIHBvc2l0aW9uLCBsZW5ndGgpOwogICAgICBwb3NpdGlvbiArPSBsZW5ndGg7CgogICAgICBjb25zdCBiYXNlNjQgPSBidG9hKFN0cmluZy5mcm9tQ2hhckNvZGUuYXBwbHkobnVsbCwgY2h1bmspKTsKICAgICAgeWllbGQgewogICAgICAgIHJlc3BvbnNlOiB7CiAgICAgICAgICBhY3Rpb246ICdhcHBlbmQnLAogICAgICAgICAgZmlsZTogZmlsZS5uYW1lLAogICAgICAgICAgZGF0YTogYmFzZTY0LAogICAgICAgIH0sCiAgICAgIH07CiAgICAgIHBlcmNlbnQudGV4dENvbnRlbnQgPQogICAgICAgICAgYCR7TWF0aC5yb3VuZCgocG9zaXRpb24gLyBmaWxlRGF0YS5ieXRlTGVuZ3RoKSAqIDEwMCl9JSBkb25lYDsKICAgIH0KICB9CgogIC8vIEFsbCBkb25lLgogIHlpZWxkIHsKICAgIHJlc3BvbnNlOiB7CiAgICAgIGFjdGlvbjogJ2NvbXBsZXRlJywKICAgIH0KICB9Owp9CgpzY29wZS5nb29nbGUgPSBzY29wZS5nb29nbGUgfHwge307CnNjb3BlLmdvb2dsZS5jb2xhYiA9IHNjb3BlLmdvb2dsZS5jb2xhYiB8fCB7fTsKc2NvcGUuZ29vZ2xlLmNvbGFiLl9maWxlcyA9IHsKICBfdXBsb2FkRmlsZXMsCiAgX3VwbG9hZEZpbGVzQ29udGludWUsCn07Cn0pKHNlbGYpOwo=",
              "ok": true,
              "headers": [
                [
                  "content-type",
                  "application/javascript"
                ]
              ],
              "status": 200,
              "status_text": ""
            }
          },
          "base_uri": "https://localhost:8080/",
          "height": 88
        },
        "outputId": "7f254935-ba20-4660-b077-9b34e1e62d18"
      },
      "source": [
        "from google.colab import files\n",
        "\n",
        "uploaded = files.upload()\n",
        "\n",
        "for fn in uploaded.keys():\n",
        "  print('User uploaded file \"{name}\" with length {length} bytes'.format(\n",
        "      name=fn, length=len(uploaded[fn])))"
      ],
      "execution_count": 10,
      "outputs": [
        {
          "output_type": "display_data",
          "data": {
            "text/html": [
              "\n",
              "     <input type=\"file\" id=\"files-50b1616d-0ac0-44bc-ab55-e705fe0cd8f8\" name=\"files[]\" multiple disabled />\n",
              "     <output id=\"result-50b1616d-0ac0-44bc-ab55-e705fe0cd8f8\">\n",
              "      Upload widget is only available when the cell has been executed in the\n",
              "      current browser session. Please rerun this cell to enable.\n",
              "      </output>\n",
              "      <script src=\"/nbextensions/google.colab/files.js\"></script> "
            ],
            "text/plain": [
              "<IPython.core.display.HTML object>"
            ]
          },
          "metadata": {
            "tags": []
          }
        },
        {
          "output_type": "stream",
          "text": [
            "Saving data.csv to data.csv\n",
            "User uploaded file \"data.csv\" with length 125204 bytes\n"
          ],
          "name": "stdout"
        }
      ]
    },
    {
      "cell_type": "code",
      "metadata": {
        "id": "J6RspjAUXvSO",
        "colab_type": "code",
        "colab": {
          "base_uri": "https://localhost:8080/",
          "height": 241
        },
        "outputId": "f53e6bcd-3fe3-4d52-ba2c-ba1e4f66283b"
      },
      "source": [
        "import pandas as pd\n",
        "import io\n",
        "data = pd.read_csv(io.StringIO(uploaded['data.csv'].decode('utf-8')))\n",
        "data.head()"
      ],
      "execution_count": 11,
      "outputs": [
        {
          "output_type": "execute_result",
          "data": {
            "text/html": [
              "<div>\n",
              "<style scoped>\n",
              "    .dataframe tbody tr th:only-of-type {\n",
              "        vertical-align: middle;\n",
              "    }\n",
              "\n",
              "    .dataframe tbody tr th {\n",
              "        vertical-align: top;\n",
              "    }\n",
              "\n",
              "    .dataframe thead th {\n",
              "        text-align: right;\n",
              "    }\n",
              "</style>\n",
              "<table border=\"1\" class=\"dataframe\">\n",
              "  <thead>\n",
              "    <tr style=\"text-align: right;\">\n",
              "      <th></th>\n",
              "      <th>id</th>\n",
              "      <th>diagnosis</th>\n",
              "      <th>radius_mean</th>\n",
              "      <th>texture_mean</th>\n",
              "      <th>perimeter_mean</th>\n",
              "      <th>area_mean</th>\n",
              "      <th>smoothness_mean</th>\n",
              "      <th>compactness_mean</th>\n",
              "      <th>concavity_mean</th>\n",
              "      <th>concave points_mean</th>\n",
              "      <th>symmetry_mean</th>\n",
              "      <th>fractal_dimension_mean</th>\n",
              "      <th>radius_se</th>\n",
              "      <th>texture_se</th>\n",
              "      <th>perimeter_se</th>\n",
              "      <th>area_se</th>\n",
              "      <th>smoothness_se</th>\n",
              "      <th>compactness_se</th>\n",
              "      <th>concavity_se</th>\n",
              "      <th>concave points_se</th>\n",
              "      <th>symmetry_se</th>\n",
              "      <th>fractal_dimension_se</th>\n",
              "      <th>radius_worst</th>\n",
              "      <th>texture_worst</th>\n",
              "      <th>perimeter_worst</th>\n",
              "      <th>area_worst</th>\n",
              "      <th>smoothness_worst</th>\n",
              "      <th>compactness_worst</th>\n",
              "      <th>concavity_worst</th>\n",
              "      <th>concave points_worst</th>\n",
              "      <th>symmetry_worst</th>\n",
              "      <th>fractal_dimension_worst</th>\n",
              "      <th>Unnamed: 32</th>\n",
              "    </tr>\n",
              "  </thead>\n",
              "  <tbody>\n",
              "    <tr>\n",
              "      <th>0</th>\n",
              "      <td>842302</td>\n",
              "      <td>M</td>\n",
              "      <td>17.99</td>\n",
              "      <td>10.38</td>\n",
              "      <td>122.80</td>\n",
              "      <td>1001.0</td>\n",
              "      <td>0.11840</td>\n",
              "      <td>0.27760</td>\n",
              "      <td>0.3001</td>\n",
              "      <td>0.14710</td>\n",
              "      <td>0.2419</td>\n",
              "      <td>0.07871</td>\n",
              "      <td>1.0950</td>\n",
              "      <td>0.9053</td>\n",
              "      <td>8.589</td>\n",
              "      <td>153.40</td>\n",
              "      <td>0.006399</td>\n",
              "      <td>0.04904</td>\n",
              "      <td>0.05373</td>\n",
              "      <td>0.01587</td>\n",
              "      <td>0.03003</td>\n",
              "      <td>0.006193</td>\n",
              "      <td>25.38</td>\n",
              "      <td>17.33</td>\n",
              "      <td>184.60</td>\n",
              "      <td>2019.0</td>\n",
              "      <td>0.1622</td>\n",
              "      <td>0.6656</td>\n",
              "      <td>0.7119</td>\n",
              "      <td>0.2654</td>\n",
              "      <td>0.4601</td>\n",
              "      <td>0.11890</td>\n",
              "      <td>NaN</td>\n",
              "    </tr>\n",
              "    <tr>\n",
              "      <th>1</th>\n",
              "      <td>842517</td>\n",
              "      <td>M</td>\n",
              "      <td>20.57</td>\n",
              "      <td>17.77</td>\n",
              "      <td>132.90</td>\n",
              "      <td>1326.0</td>\n",
              "      <td>0.08474</td>\n",
              "      <td>0.07864</td>\n",
              "      <td>0.0869</td>\n",
              "      <td>0.07017</td>\n",
              "      <td>0.1812</td>\n",
              "      <td>0.05667</td>\n",
              "      <td>0.5435</td>\n",
              "      <td>0.7339</td>\n",
              "      <td>3.398</td>\n",
              "      <td>74.08</td>\n",
              "      <td>0.005225</td>\n",
              "      <td>0.01308</td>\n",
              "      <td>0.01860</td>\n",
              "      <td>0.01340</td>\n",
              "      <td>0.01389</td>\n",
              "      <td>0.003532</td>\n",
              "      <td>24.99</td>\n",
              "      <td>23.41</td>\n",
              "      <td>158.80</td>\n",
              "      <td>1956.0</td>\n",
              "      <td>0.1238</td>\n",
              "      <td>0.1866</td>\n",
              "      <td>0.2416</td>\n",
              "      <td>0.1860</td>\n",
              "      <td>0.2750</td>\n",
              "      <td>0.08902</td>\n",
              "      <td>NaN</td>\n",
              "    </tr>\n",
              "    <tr>\n",
              "      <th>2</th>\n",
              "      <td>84300903</td>\n",
              "      <td>M</td>\n",
              "      <td>19.69</td>\n",
              "      <td>21.25</td>\n",
              "      <td>130.00</td>\n",
              "      <td>1203.0</td>\n",
              "      <td>0.10960</td>\n",
              "      <td>0.15990</td>\n",
              "      <td>0.1974</td>\n",
              "      <td>0.12790</td>\n",
              "      <td>0.2069</td>\n",
              "      <td>0.05999</td>\n",
              "      <td>0.7456</td>\n",
              "      <td>0.7869</td>\n",
              "      <td>4.585</td>\n",
              "      <td>94.03</td>\n",
              "      <td>0.006150</td>\n",
              "      <td>0.04006</td>\n",
              "      <td>0.03832</td>\n",
              "      <td>0.02058</td>\n",
              "      <td>0.02250</td>\n",
              "      <td>0.004571</td>\n",
              "      <td>23.57</td>\n",
              "      <td>25.53</td>\n",
              "      <td>152.50</td>\n",
              "      <td>1709.0</td>\n",
              "      <td>0.1444</td>\n",
              "      <td>0.4245</td>\n",
              "      <td>0.4504</td>\n",
              "      <td>0.2430</td>\n",
              "      <td>0.3613</td>\n",
              "      <td>0.08758</td>\n",
              "      <td>NaN</td>\n",
              "    </tr>\n",
              "    <tr>\n",
              "      <th>3</th>\n",
              "      <td>84348301</td>\n",
              "      <td>M</td>\n",
              "      <td>11.42</td>\n",
              "      <td>20.38</td>\n",
              "      <td>77.58</td>\n",
              "      <td>386.1</td>\n",
              "      <td>0.14250</td>\n",
              "      <td>0.28390</td>\n",
              "      <td>0.2414</td>\n",
              "      <td>0.10520</td>\n",
              "      <td>0.2597</td>\n",
              "      <td>0.09744</td>\n",
              "      <td>0.4956</td>\n",
              "      <td>1.1560</td>\n",
              "      <td>3.445</td>\n",
              "      <td>27.23</td>\n",
              "      <td>0.009110</td>\n",
              "      <td>0.07458</td>\n",
              "      <td>0.05661</td>\n",
              "      <td>0.01867</td>\n",
              "      <td>0.05963</td>\n",
              "      <td>0.009208</td>\n",
              "      <td>14.91</td>\n",
              "      <td>26.50</td>\n",
              "      <td>98.87</td>\n",
              "      <td>567.7</td>\n",
              "      <td>0.2098</td>\n",
              "      <td>0.8663</td>\n",
              "      <td>0.6869</td>\n",
              "      <td>0.2575</td>\n",
              "      <td>0.6638</td>\n",
              "      <td>0.17300</td>\n",
              "      <td>NaN</td>\n",
              "    </tr>\n",
              "    <tr>\n",
              "      <th>4</th>\n",
              "      <td>84358402</td>\n",
              "      <td>M</td>\n",
              "      <td>20.29</td>\n",
              "      <td>14.34</td>\n",
              "      <td>135.10</td>\n",
              "      <td>1297.0</td>\n",
              "      <td>0.10030</td>\n",
              "      <td>0.13280</td>\n",
              "      <td>0.1980</td>\n",
              "      <td>0.10430</td>\n",
              "      <td>0.1809</td>\n",
              "      <td>0.05883</td>\n",
              "      <td>0.7572</td>\n",
              "      <td>0.7813</td>\n",
              "      <td>5.438</td>\n",
              "      <td>94.44</td>\n",
              "      <td>0.011490</td>\n",
              "      <td>0.02461</td>\n",
              "      <td>0.05688</td>\n",
              "      <td>0.01885</td>\n",
              "      <td>0.01756</td>\n",
              "      <td>0.005115</td>\n",
              "      <td>22.54</td>\n",
              "      <td>16.67</td>\n",
              "      <td>152.20</td>\n",
              "      <td>1575.0</td>\n",
              "      <td>0.1374</td>\n",
              "      <td>0.2050</td>\n",
              "      <td>0.4000</td>\n",
              "      <td>0.1625</td>\n",
              "      <td>0.2364</td>\n",
              "      <td>0.07678</td>\n",
              "      <td>NaN</td>\n",
              "    </tr>\n",
              "  </tbody>\n",
              "</table>\n",
              "</div>"
            ],
            "text/plain": [
              "         id diagnosis  ...  fractal_dimension_worst  Unnamed: 32\n",
              "0    842302         M  ...                  0.11890          NaN\n",
              "1    842517         M  ...                  0.08902          NaN\n",
              "2  84300903         M  ...                  0.08758          NaN\n",
              "3  84348301         M  ...                  0.17300          NaN\n",
              "4  84358402         M  ...                  0.07678          NaN\n",
              "\n",
              "[5 rows x 33 columns]"
            ]
          },
          "metadata": {
            "tags": []
          },
          "execution_count": 11
        }
      ]
    },
    {
      "cell_type": "code",
      "metadata": {
        "id": "M9ROW8_6Yvil",
        "colab_type": "code",
        "colab": {
          "base_uri": "https://localhost:8080/",
          "height": 313
        },
        "outputId": "fd17192a-a8e9-48ef-a314-9869184ac32e"
      },
      "source": [
        "import seaborn as sns\n",
        "ax = sns.countplot(data['diagnosis'],label='Count')\n",
        "B,M = data['diagnosis'].value_counts()\n",
        "print('Benign',B)\n",
        "print('Malignant',M)"
      ],
      "execution_count": 12,
      "outputs": [
        {
          "output_type": "stream",
          "text": [
            "Benign 357\n",
            "Malignant 212\n"
          ],
          "name": "stdout"
        },
        {
          "output_type": "display_data",
          "data": {
            "image/png": "[encoded data removed]",
            "text/plain": [
              "<Figure size 432x288 with 1 Axes>"
            ]
          },
          "metadata": {
            "tags": [],
            "needs_background": "light"
          }
        }
      ]
    },
    {
      "cell_type": "code",
      "metadata": {
        "id": "ou0fGnpgZ4ol",
        "colab_type": "code",
        "colab": {}
      },
      "source": [
        "import numpy as np\n",
        "import matplotlib.pyplot as plt\n",
        "\n",
        "del data['Unnamed: 32']"
      ],
      "execution_count": 0,
      "outputs": []
    },
    {
      "cell_type": "code",
      "metadata": {
        "id": "Z7seRgCeacnc",
        "colab_type": "code",
        "colab": {}
      },
      "source": [
        "# split the dataset\n",
        "\n",
        "x = data.iloc[:,2:].values\n",
        "y = data.iloc[:,1].values"
      ],
      "execution_count": 0,
      "outputs": []
    },
    {
      "cell_type": "code",
      "metadata": {
        "id": "CtTCvhRKnqR_",
        "colab_type": "code",
        "colab": {}
      },
      "source": [
        "# encoding catagoraical data\n",
        "from sklearn.preprocessing import LabelEncoder\n",
        "labelencoder_X_1 = LabelEncoder()\n",
        "y = labelencoder_X_1.fit_transform(y)"
      ],
      "execution_count": 0,
      "outputs": []
    },
    {
      "cell_type": "code",
      "metadata": {
        "id": "NaTqx1bToR5c",
        "colab_type": "code",
        "colab": {}
      },
      "source": [
        "#Training and Testing data classification\n",
        "\n",
        "from sklearn.model_selection import train_test_split\n",
        "x_train,x_test,y_train,y_test = train_test_split(x,y,test_size=0.2,random_state=0)"
      ],
      "execution_count": 0,
      "outputs": []
    },
    {
      "cell_type": "code",
      "metadata": {
        "id": "HEhm5Ay-olse",
        "colab_type": "code",
        "colab": {}
      },
      "source": [
        "#standerd and fit data for better prediction\n",
        "\n",
        "from sklearn.preprocessing import StandardScaler \n",
        "sc_x = StandardScaler()\n",
        "x_test = sc_x.fit_transform(x_test)\n",
        "x_train = sc_x.fit_transform(x_train)"
      ],
      "execution_count": 0,
      "outputs": []
    },
    {
      "cell_type": "code",
      "metadata": {
        "id": "Dwm_p3GMoqjT",
        "colab_type": "code",
        "colab": {
          "base_uri": "https://localhost:8080/",
          "height": 238
        },
        "outputId": "add642e5-20a0-4ff0-b307-bf18026edce1"
      },
      "source": [
        "x_test"
      ],
      "execution_count": 23,
      "outputs": [
        {
          "output_type": "execute_result",
          "data": {
            "text/plain": [
              "array([[-0.22609091,  0.14299357, -0.16219992, ...,  1.33438591,\n",
              "         1.22101459,  1.32977555],\n",
              "       [-0.28072076,  1.13113906, -0.34954245, ..., -0.81952682,\n",
              "        -0.77541863, -0.94570364],\n",
              "       [-0.04782508, -0.87231025, -0.12299829, ..., -0.49120548,\n",
              "        -1.31433312, -0.98696059],\n",
              "       ...,\n",
              "       [ 1.7233322 , -0.06173848,  1.70132185, ...,  1.51554921,\n",
              "         0.25341812, -0.26496405],\n",
              "       [ 1.18565945,  0.15552818,  1.16487847, ...,  0.53103066,\n",
              "         0.32690646, -0.37709831],\n",
              "       [ 0.24545096, -0.64668718,  0.25416267, ..., -0.19956228,\n",
              "        -1.2425945 , -0.01424877]])"
            ]
          },
          "metadata": {
            "tags": []
          },
          "execution_count": 23
        }
      ]
    },
    {
      "cell_type": "code",
      "metadata": {
        "id": "zte-MiNFotxo",
        "colab_type": "code",
        "colab": {
          "base_uri": "https://localhost:8080/",
          "height": 153
        },
        "outputId": "83887641-1f68-4fc1-80c8-e580c133e22d"
      },
      "source": [
        "!pip install keras"
      ],
      "execution_count": 24,
      "outputs": [
        {
          "output_type": "stream",
          "text": [
            "Requirement already satisfied: keras in /usr/local/lib/python3.6/dist-packages (2.3.1)\n",
            "Requirement already satisfied: h5py in /usr/local/lib/python3.6/dist-packages (from keras) (2.10.0)\n",
            "Requirement already satisfied: keras-applications>=1.0.6 in /usr/local/lib/python3.6/dist-packages (from keras) (1.0.8)\n",
            "Requirement already satisfied: pyyaml in /usr/local/lib/python3.6/dist-packages (from keras) (3.13)\n",
            "Requirement already satisfied: keras-preprocessing>=1.0.5 in /usr/local/lib/python3.6/dist-packages (from keras) (1.1.0)\n",
            "Requirement already satisfied: six>=1.9.0 in /usr/local/lib/python3.6/dist-packages (from keras) (1.12.0)\n",
            "Requirement already satisfied: numpy>=1.9.1 in /usr/local/lib/python3.6/dist-packages (from keras) (1.18.2)\n",
            "Requirement already satisfied: scipy>=0.14 in /usr/local/lib/python3.6/dist-packages (from keras) (1.4.1)\n"
          ],
          "name": "stdout"
        }
      ]
    },
    {
      "cell_type": "code",
      "metadata": {
        "id": "QsIZzOzEpLNJ",
        "colab_type": "code",
        "colab": {}
      },
      "source": [
        "import keras\n",
        "from keras.models import Sequential\n",
        "from keras.layers import Dense"
      ],
      "execution_count": 0,
      "outputs": []
    },
    {
      "cell_type": "code",
      "metadata": {
        "id": "Pwnx0cdRp0du",
        "colab_type": "code",
        "colab": {
          "base_uri": "https://localhost:8080/",
          "height": 139
        },
        "outputId": "030f98f8-caba-4231-e016-3a9281575fff"
      },
      "source": [
        "# input,output and hidden layers\n",
        "\n",
        "classifier = Sequential()\n",
        "classifier.add(Dense(output_dim = 16 , init='uniform' ,activation='relu' , input_dim=30 ))\n",
        "classifier.add(Dense(output_dim = 16 , init='uniform' ,activation='relu' ))\n",
        "classifier.add(Dense(output_dim = 1 , init='uniform' ,activation='sigmoid'))"
      ],
      "execution_count": 26,
      "outputs": [
        {
          "output_type": "stream",
          "text": [
            "/usr/local/lib/python3.6/dist-packages/ipykernel_launcher.py:3: UserWarning: Update your `Dense` call to the Keras 2 API: `Dense(activation=\"relu\", input_dim=30, units=16, kernel_initializer=\"uniform\")`\n",
            "  This is separate from the ipykernel package so we can avoid doing imports until\n",
            "/usr/local/lib/python3.6/dist-packages/ipykernel_launcher.py:4: UserWarning: Update your `Dense` call to the Keras 2 API: `Dense(activation=\"relu\", units=16, kernel_initializer=\"uniform\")`\n",
            "  after removing the cwd from sys.path.\n",
            "/usr/local/lib/python3.6/dist-packages/ipykernel_launcher.py:5: UserWarning: Update your `Dense` call to the Keras 2 API: `Dense(activation=\"sigmoid\", units=1, kernel_initializer=\"uniform\")`\n",
            "  \"\"\"\n"
          ],
          "name": "stderr"
        }
      ]
    },
    {
      "cell_type": "code",
      "metadata": {
        "id": "cB3LnZgorWKc",
        "colab_type": "code",
        "colab": {}
      },
      "source": [
        "classifier.compile(optimizer='Adam' , loss='binary_crossentropy' , metrics=['accuracy'] )"
      ],
      "execution_count": 0,
      "outputs": []
    },
    {
      "cell_type": "code",
      "metadata": {
        "id": "4_OyxGBIsTZ5",
        "colab_type": "code",
        "colab": {
          "base_uri": "https://localhost:8080/",
          "height": 1000
        },
        "outputId": "851bf8a8-04a1-4831-8030-607611adffe2"
      },
      "source": [
        "#train\n",
        "\n",
        "classifier.fit(x_train,y_train,batch_size=100, nb_epoch=150)"
      ],
      "execution_count": 29,
      "outputs": [
        {
          "output_type": "stream",
          "text": [
            "/usr/local/lib/python3.6/dist-packages/ipykernel_launcher.py:2: UserWarning: The `nb_epoch` argument in `fit` has been renamed `epochs`.\n",
            "  \n"
          ],
          "name": "stderr"
        },
        {
          "output_type": "stream",
          "text": [
            "Epoch 1/150\n",
            "455/455 [==============================] - 0s 975us/step - loss: 0.6926 - accuracy: 0.6132\n",
            "Epoch 2/150\n",
            "455/455 [==============================] - 0s 33us/step - loss: 0.6907 - accuracy: 0.6703\n",
            "Epoch 3/150\n",
            "455/455 [==============================] - 0s 28us/step - loss: 0.6881 - accuracy: 0.7011\n",
            "Epoch 4/150\n",
            "455/455 [==============================] - 0s 24us/step - loss: 0.6840 - accuracy: 0.7648\n",
            "Epoch 5/150\n",
            "455/455 [==============================] - 0s 21us/step - loss: 0.6784 - accuracy: 0.8462\n",
            "Epoch 6/150\n",
            "455/455 [==============================] - 0s 22us/step - loss: 0.6704 - accuracy: 0.8967\n",
            "Epoch 7/150\n",
            "455/455 [==============================] - 0s 25us/step - loss: 0.6593 - accuracy: 0.9165\n",
            "Epoch 8/150\n",
            "455/455 [==============================] - 0s 23us/step - loss: 0.6442 - accuracy: 0.9297\n",
            "Epoch 9/150\n",
            "455/455 [==============================] - 0s 24us/step - loss: 0.6247 - accuracy: 0.9363\n",
            "Epoch 10/150\n",
            "455/455 [==============================] - 0s 28us/step - loss: 0.6002 - accuracy: 0.9451\n",
            "Epoch 11/150\n",
            "455/455 [==============================] - 0s 23us/step - loss: 0.5700 - accuracy: 0.9429\n",
            "Epoch 12/150\n",
            "455/455 [==============================] - 0s 26us/step - loss: 0.5352 - accuracy: 0.9473\n",
            "Epoch 13/150\n",
            "455/455 [==============================] - 0s 22us/step - loss: 0.4952 - accuracy: 0.9516\n",
            "Epoch 14/150\n",
            "455/455 [==============================] - 0s 29us/step - loss: 0.4523 - accuracy: 0.9516\n",
            "Epoch 15/150\n",
            "455/455 [==============================] - 0s 23us/step - loss: 0.4075 - accuracy: 0.9516\n",
            "Epoch 16/150\n",
            "455/455 [==============================] - 0s 23us/step - loss: 0.3637 - accuracy: 0.9538\n",
            "Epoch 17/150\n",
            "455/455 [==============================] - 0s 27us/step - loss: 0.3220 - accuracy: 0.9560\n",
            "Epoch 18/150\n",
            "455/455 [==============================] - 0s 36us/step - loss: 0.2846 - accuracy: 0.9582\n",
            "Epoch 19/150\n",
            "455/455 [==============================] - 0s 25us/step - loss: 0.2508 - accuracy: 0.9604\n",
            "Epoch 20/150\n",
            "455/455 [==============================] - 0s 24us/step - loss: 0.2222 - accuracy: 0.9648\n",
            "Epoch 21/150\n",
            "455/455 [==============================] - 0s 26us/step - loss: 0.1989 - accuracy: 0.9670\n",
            "Epoch 22/150\n",
            "455/455 [==============================] - 0s 23us/step - loss: 0.1788 - accuracy: 0.9714\n",
            "Epoch 23/150\n",
            "455/455 [==============================] - 0s 23us/step - loss: 0.1631 - accuracy: 0.9714\n",
            "Epoch 24/150\n",
            "455/455 [==============================] - 0s 23us/step - loss: 0.1489 - accuracy: 0.9758\n",
            "Epoch 25/150\n",
            "455/455 [==============================] - 0s 24us/step - loss: 0.1379 - accuracy: 0.9758\n",
            "Epoch 26/150\n",
            "455/455 [==============================] - 0s 23us/step - loss: 0.1282 - accuracy: 0.9758\n",
            "Epoch 27/150\n",
            "455/455 [==============================] - 0s 23us/step - loss: 0.1204 - accuracy: 0.9736\n",
            "Epoch 28/150\n",
            "455/455 [==============================] - 0s 23us/step - loss: 0.1135 - accuracy: 0.9736\n",
            "Epoch 29/150\n",
            "455/455 [==============================] - 0s 24us/step - loss: 0.1080 - accuracy: 0.9758\n",
            "Epoch 30/150\n",
            "455/455 [==============================] - 0s 34us/step - loss: 0.1031 - accuracy: 0.9758\n",
            "Epoch 31/150\n",
            "455/455 [==============================] - 0s 24us/step - loss: 0.0988 - accuracy: 0.9758\n",
            "Epoch 32/150\n",
            "455/455 [==============================] - 0s 24us/step - loss: 0.0949 - accuracy: 0.9780\n",
            "Epoch 33/150\n",
            "455/455 [==============================] - 0s 24us/step - loss: 0.0918 - accuracy: 0.9802\n",
            "Epoch 34/150\n",
            "455/455 [==============================] - 0s 24us/step - loss: 0.0889 - accuracy: 0.9802\n",
            "Epoch 35/150\n",
            "455/455 [==============================] - 0s 28us/step - loss: 0.0865 - accuracy: 0.9802\n",
            "Epoch 36/150\n",
            "455/455 [==============================] - 0s 33us/step - loss: 0.0841 - accuracy: 0.9802\n",
            "Epoch 37/150\n",
            "455/455 [==============================] - 0s 26us/step - loss: 0.0823 - accuracy: 0.9802\n",
            "Epoch 38/150\n",
            "455/455 [==============================] - 0s 23us/step - loss: 0.0804 - accuracy: 0.9802\n",
            "Epoch 39/150\n",
            "455/455 [==============================] - 0s 37us/step - loss: 0.0788 - accuracy: 0.9802\n",
            "Epoch 40/150\n",
            "455/455 [==============================] - 0s 26us/step - loss: 0.0772 - accuracy: 0.9802\n",
            "Epoch 41/150\n",
            "455/455 [==============================] - 0s 27us/step - loss: 0.0757 - accuracy: 0.9802\n",
            "Epoch 42/150\n",
            "455/455 [==============================] - 0s 22us/step - loss: 0.0743 - accuracy: 0.9824\n",
            "Epoch 43/150\n",
            "455/455 [==============================] - 0s 27us/step - loss: 0.0730 - accuracy: 0.9868\n",
            "Epoch 44/150\n",
            "455/455 [==============================] - 0s 24us/step - loss: 0.0717 - accuracy: 0.9868\n",
            "Epoch 45/150\n",
            "455/455 [==============================] - 0s 37us/step - loss: 0.0705 - accuracy: 0.9868\n",
            "Epoch 46/150\n",
            "455/455 [==============================] - 0s 29us/step - loss: 0.0694 - accuracy: 0.9868\n",
            "Epoch 47/150\n",
            "455/455 [==============================] - 0s 27us/step - loss: 0.0683 - accuracy: 0.9868\n",
            "Epoch 48/150\n",
            "455/455 [==============================] - 0s 29us/step - loss: 0.0673 - accuracy: 0.9868\n",
            "Epoch 49/150\n",
            "455/455 [==============================] - 0s 29us/step - loss: 0.0664 - accuracy: 0.9868\n",
            "Epoch 50/150\n",
            "455/455 [==============================] - 0s 25us/step - loss: 0.0654 - accuracy: 0.9868\n",
            "Epoch 51/150\n",
            "455/455 [==============================] - 0s 30us/step - loss: 0.0646 - accuracy: 0.9868\n",
            "Epoch 52/150\n",
            "455/455 [==============================] - 0s 32us/step - loss: 0.0638 - accuracy: 0.9868\n",
            "Epoch 53/150\n",
            "455/455 [==============================] - 0s 24us/step - loss: 0.0630 - accuracy: 0.9868\n",
            "Epoch 54/150\n",
            "455/455 [==============================] - 0s 27us/step - loss: 0.0623 - accuracy: 0.9868\n",
            "Epoch 55/150\n",
            "455/455 [==============================] - 0s 28us/step - loss: 0.0616 - accuracy: 0.9868\n",
            "Epoch 56/150\n",
            "455/455 [==============================] - 0s 31us/step - loss: 0.0609 - accuracy: 0.9868\n",
            "Epoch 57/150\n",
            "455/455 [==============================] - 0s 26us/step - loss: 0.0602 - accuracy: 0.9890\n",
            "Epoch 58/150\n",
            "455/455 [==============================] - 0s 35us/step - loss: 0.0597 - accuracy: 0.9890\n",
            "Epoch 59/150\n",
            "455/455 [==============================] - 0s 31us/step - loss: 0.0590 - accuracy: 0.9890\n",
            "Epoch 60/150\n",
            "455/455 [==============================] - 0s 27us/step - loss: 0.0584 - accuracy: 0.9890\n",
            "Epoch 61/150\n",
            "455/455 [==============================] - 0s 36us/step - loss: 0.0579 - accuracy: 0.9890\n",
            "Epoch 62/150\n",
            "455/455 [==============================] - 0s 23us/step - loss: 0.0574 - accuracy: 0.9890\n",
            "Epoch 63/150\n",
            "455/455 [==============================] - 0s 23us/step - loss: 0.0568 - accuracy: 0.9890\n",
            "Epoch 64/150\n",
            "455/455 [==============================] - 0s 26us/step - loss: 0.0563 - accuracy: 0.9890\n",
            "Epoch 65/150\n",
            "455/455 [==============================] - 0s 25us/step - loss: 0.0558 - accuracy: 0.9890\n",
            "Epoch 66/150\n",
            "455/455 [==============================] - 0s 27us/step - loss: 0.0553 - accuracy: 0.9890\n",
            "Epoch 67/150\n",
            "455/455 [==============================] - 0s 23us/step - loss: 0.0548 - accuracy: 0.9890\n",
            "Epoch 68/150\n",
            "455/455 [==============================] - 0s 23us/step - loss: 0.0544 - accuracy: 0.9890\n",
            "Epoch 69/150\n",
            "455/455 [==============================] - 0s 27us/step - loss: 0.0539 - accuracy: 0.9890\n",
            "Epoch 70/150\n",
            "455/455 [==============================] - 0s 32us/step - loss: 0.0534 - accuracy: 0.9890\n",
            "Epoch 71/150\n",
            "455/455 [==============================] - 0s 28us/step - loss: 0.0531 - accuracy: 0.9890\n",
            "Epoch 72/150\n",
            "455/455 [==============================] - 0s 27us/step - loss: 0.0527 - accuracy: 0.9890\n",
            "Epoch 73/150\n",
            "455/455 [==============================] - 0s 22us/step - loss: 0.0522 - accuracy: 0.9890\n",
            "Epoch 74/150\n",
            "455/455 [==============================] - 0s 25us/step - loss: 0.0518 - accuracy: 0.9890\n",
            "Epoch 75/150\n",
            "455/455 [==============================] - 0s 25us/step - loss: 0.0515 - accuracy: 0.9890\n",
            "Epoch 76/150\n",
            "455/455 [==============================] - 0s 34us/step - loss: 0.0511 - accuracy: 0.9890\n",
            "Epoch 77/150\n",
            "455/455 [==============================] - 0s 38us/step - loss: 0.0508 - accuracy: 0.9890\n",
            "Epoch 78/150\n",
            "455/455 [==============================] - 0s 37us/step - loss: 0.0503 - accuracy: 0.9890\n",
            "Epoch 79/150\n",
            "455/455 [==============================] - 0s 29us/step - loss: 0.0499 - accuracy: 0.9890\n",
            "Epoch 80/150\n",
            "455/455 [==============================] - 0s 28us/step - loss: 0.0496 - accuracy: 0.9890\n",
            "Epoch 81/150\n",
            "455/455 [==============================] - 0s 25us/step - loss: 0.0493 - accuracy: 0.9890\n",
            "Epoch 82/150\n",
            "455/455 [==============================] - 0s 26us/step - loss: 0.0489 - accuracy: 0.9890\n",
            "Epoch 83/150\n",
            "455/455 [==============================] - 0s 23us/step - loss: 0.0485 - accuracy: 0.9890\n",
            "Epoch 84/150\n",
            "455/455 [==============================] - 0s 23us/step - loss: 0.0482 - accuracy: 0.9890\n",
            "Epoch 85/150\n",
            "455/455 [==============================] - 0s 21us/step - loss: 0.0478 - accuracy: 0.9890\n",
            "Epoch 86/150\n",
            "455/455 [==============================] - 0s 37us/step - loss: 0.0475 - accuracy: 0.9890\n",
            "Epoch 87/150\n",
            "455/455 [==============================] - 0s 25us/step - loss: 0.0472 - accuracy: 0.9890\n",
            "Epoch 88/150\n",
            "455/455 [==============================] - 0s 25us/step - loss: 0.0469 - accuracy: 0.9890\n",
            "Epoch 89/150\n",
            "455/455 [==============================] - 0s 26us/step - loss: 0.0466 - accuracy: 0.9890\n",
            "Epoch 90/150\n",
            "455/455 [==============================] - 0s 29us/step - loss: 0.0463 - accuracy: 0.9890\n",
            "Epoch 91/150\n",
            "455/455 [==============================] - 0s 28us/step - loss: 0.0460 - accuracy: 0.9890\n",
            "Epoch 92/150\n",
            "455/455 [==============================] - 0s 40us/step - loss: 0.0457 - accuracy: 0.9890\n",
            "Epoch 93/150\n",
            "455/455 [==============================] - 0s 35us/step - loss: 0.0454 - accuracy: 0.9890\n",
            "Epoch 94/150\n",
            "455/455 [==============================] - 0s 34us/step - loss: 0.0451 - accuracy: 0.9890\n",
            "Epoch 95/150\n",
            "455/455 [==============================] - 0s 25us/step - loss: 0.0449 - accuracy: 0.9890\n",
            "Epoch 96/150\n",
            "455/455 [==============================] - 0s 30us/step - loss: 0.0446 - accuracy: 0.9912\n",
            "Epoch 97/150\n",
            "455/455 [==============================] - 0s 29us/step - loss: 0.0443 - accuracy: 0.9912\n",
            "Epoch 98/150\n",
            "455/455 [==============================] - 0s 25us/step - loss: 0.0441 - accuracy: 0.9912\n",
            "Epoch 99/150\n",
            "455/455 [==============================] - 0s 32us/step - loss: 0.0438 - accuracy: 0.9912\n",
            "Epoch 100/150\n",
            "455/455 [==============================] - 0s 31us/step - loss: 0.0435 - accuracy: 0.9912\n",
            "Epoch 101/150\n",
            "455/455 [==============================] - 0s 28us/step - loss: 0.0433 - accuracy: 0.9912\n",
            "Epoch 102/150\n",
            "455/455 [==============================] - 0s 26us/step - loss: 0.0430 - accuracy: 0.9912\n",
            "Epoch 103/150\n",
            "455/455 [==============================] - 0s 28us/step - loss: 0.0428 - accuracy: 0.9912\n",
            "Epoch 104/150\n",
            "455/455 [==============================] - 0s 26us/step - loss: 0.0424 - accuracy: 0.9912\n",
            "Epoch 105/150\n",
            "455/455 [==============================] - 0s 30us/step - loss: 0.0422 - accuracy: 0.9912\n",
            "Epoch 106/150\n",
            "455/455 [==============================] - 0s 27us/step - loss: 0.0420 - accuracy: 0.9912\n",
            "Epoch 107/150\n",
            "455/455 [==============================] - 0s 26us/step - loss: 0.0417 - accuracy: 0.9912\n",
            "Epoch 108/150\n",
            "455/455 [==============================] - 0s 24us/step - loss: 0.0415 - accuracy: 0.9912\n",
            "Epoch 109/150\n",
            "455/455 [==============================] - 0s 24us/step - loss: 0.0412 - accuracy: 0.9912\n",
            "Epoch 110/150\n",
            "455/455 [==============================] - 0s 24us/step - loss: 0.0410 - accuracy: 0.9912\n",
            "Epoch 111/150\n",
            "455/455 [==============================] - 0s 31us/step - loss: 0.0407 - accuracy: 0.9912\n",
            "Epoch 112/150\n",
            "455/455 [==============================] - 0s 31us/step - loss: 0.0404 - accuracy: 0.9912\n",
            "Epoch 113/150\n",
            "455/455 [==============================] - 0s 27us/step - loss: 0.0401 - accuracy: 0.9912\n",
            "Epoch 114/150\n",
            "455/455 [==============================] - 0s 27us/step - loss: 0.0398 - accuracy: 0.9912\n",
            "Epoch 115/150\n",
            "455/455 [==============================] - 0s 24us/step - loss: 0.0396 - accuracy: 0.9912\n",
            "Epoch 116/150\n",
            "455/455 [==============================] - 0s 21us/step - loss: 0.0394 - accuracy: 0.9912\n",
            "Epoch 117/150\n",
            "455/455 [==============================] - 0s 31us/step - loss: 0.0392 - accuracy: 0.9912\n",
            "Epoch 118/150\n",
            "455/455 [==============================] - 0s 26us/step - loss: 0.0389 - accuracy: 0.9912\n",
            "Epoch 119/150\n",
            "455/455 [==============================] - 0s 26us/step - loss: 0.0386 - accuracy: 0.9912\n",
            "Epoch 120/150\n",
            "455/455 [==============================] - 0s 34us/step - loss: 0.0384 - accuracy: 0.9912\n",
            "Epoch 121/150\n",
            "455/455 [==============================] - 0s 26us/step - loss: 0.0382 - accuracy: 0.9912\n",
            "Epoch 122/150\n",
            "455/455 [==============================] - 0s 27us/step - loss: 0.0379 - accuracy: 0.9912\n",
            "Epoch 123/150\n",
            "455/455 [==============================] - 0s 25us/step - loss: 0.0378 - accuracy: 0.9912\n",
            "Epoch 124/150\n",
            "455/455 [==============================] - 0s 24us/step - loss: 0.0374 - accuracy: 0.9912\n",
            "Epoch 125/150\n",
            "455/455 [==============================] - 0s 31us/step - loss: 0.0372 - accuracy: 0.9912\n",
            "Epoch 126/150\n",
            "455/455 [==============================] - 0s 30us/step - loss: 0.0369 - accuracy: 0.9912\n",
            "Epoch 127/150\n",
            "455/455 [==============================] - 0s 25us/step - loss: 0.0367 - accuracy: 0.9912\n",
            "Epoch 128/150\n",
            "455/455 [==============================] - 0s 34us/step - loss: 0.0365 - accuracy: 0.9912\n",
            "Epoch 129/150\n",
            "455/455 [==============================] - 0s 29us/step - loss: 0.0362 - accuracy: 0.9912\n",
            "Epoch 130/150\n",
            "455/455 [==============================] - 0s 54us/step - loss: 0.0360 - accuracy: 0.9912\n",
            "Epoch 131/150\n",
            "455/455 [==============================] - 0s 35us/step - loss: 0.0358 - accuracy: 0.9912\n",
            "Epoch 132/150\n",
            "455/455 [==============================] - 0s 38us/step - loss: 0.0356 - accuracy: 0.9912\n",
            "Epoch 133/150\n",
            "455/455 [==============================] - 0s 47us/step - loss: 0.0354 - accuracy: 0.9912\n",
            "Epoch 134/150\n",
            "455/455 [==============================] - 0s 39us/step - loss: 0.0351 - accuracy: 0.9912\n",
            "Epoch 135/150\n",
            "455/455 [==============================] - 0s 25us/step - loss: 0.0349 - accuracy: 0.9912\n",
            "Epoch 136/150\n",
            "455/455 [==============================] - 0s 24us/step - loss: 0.0347 - accuracy: 0.9912\n",
            "Epoch 137/150\n",
            "455/455 [==============================] - 0s 41us/step - loss: 0.0345 - accuracy: 0.9912\n",
            "Epoch 138/150\n",
            "455/455 [==============================] - 0s 22us/step - loss: 0.0343 - accuracy: 0.9912\n",
            "Epoch 139/150\n",
            "455/455 [==============================] - 0s 25us/step - loss: 0.0341 - accuracy: 0.9912\n",
            "Epoch 140/150\n",
            "455/455 [==============================] - 0s 24us/step - loss: 0.0339 - accuracy: 0.9912\n",
            "Epoch 141/150\n",
            "455/455 [==============================] - 0s 24us/step - loss: 0.0337 - accuracy: 0.9912\n",
            "Epoch 142/150\n",
            "455/455 [==============================] - 0s 27us/step - loss: 0.0336 - accuracy: 0.9912\n",
            "Epoch 143/150\n",
            "455/455 [==============================] - 0s 24us/step - loss: 0.0333 - accuracy: 0.9912\n",
            "Epoch 144/150\n",
            "455/455 [==============================] - 0s 28us/step - loss: 0.0331 - accuracy: 0.9912\n",
            "Epoch 145/150\n",
            "455/455 [==============================] - 0s 27us/step - loss: 0.0329 - accuracy: 0.9912\n",
            "Epoch 146/150\n",
            "455/455 [==============================] - 0s 22us/step - loss: 0.0328 - accuracy: 0.9912\n",
            "Epoch 147/150\n",
            "455/455 [==============================] - 0s 25us/step - loss: 0.0325 - accuracy: 0.9912\n",
            "Epoch 148/150\n",
            "455/455 [==============================] - 0s 24us/step - loss: 0.0322 - accuracy: 0.9912\n",
            "Epoch 149/150\n",
            "455/455 [==============================] - 0s 25us/step - loss: 0.0321 - accuracy: 0.9912\n",
            "Epoch 150/150\n",
            "455/455 [==============================] - 0s 23us/step - loss: 0.0319 - accuracy: 0.9912\n"
          ],
          "name": "stdout"
        },
        {
          "output_type": "execute_result",
          "data": {
            "text/plain": [
              "<keras.callbacks.callbacks.History at 0x7f46f3e32cf8>"
            ]
          },
          "metadata": {
            "tags": []
          },
          "execution_count": 29
        }
      ]
    },
    {
      "cell_type": "code",
      "metadata": {
        "id": "-1m_VbFUs19q",
        "colab_type": "code",
        "colab": {
          "base_uri": "https://localhost:8080/",
          "height": 1000
        },
        "outputId": "1a601d90-97ca-4016-cd6f-57ecd137e500"
      },
      "source": [
        "y_pred = classifier.predict(x_test)\n",
        "y_pred = (y_pred>0.5)\n",
        "print(y_pred)"
      ],
      "execution_count": 35,
      "outputs": [
        {
          "output_type": "stream",
          "text": [
            "[[ True]\n",
            " [False]\n",
            " [False]\n",
            " [False]\n",
            " [False]\n",
            " [False]\n",
            " [False]\n",
            " [False]\n",
            " [False]\n",
            " [False]\n",
            " [False]\n",
            " [False]\n",
            " [False]\n",
            " [ True]\n",
            " [False]\n",
            " [ True]\n",
            " [False]\n",
            " [ True]\n",
            " [ True]\n",
            " [ True]\n",
            " [ True]\n",
            " [ True]\n",
            " [False]\n",
            " [False]\n",
            " [ True]\n",
            " [False]\n",
            " [False]\n",
            " [ True]\n",
            " [False]\n",
            " [ True]\n",
            " [False]\n",
            " [ True]\n",
            " [False]\n",
            " [ True]\n",
            " [False]\n",
            " [ True]\n",
            " [False]\n",
            " [ True]\n",
            " [False]\n",
            " [ True]\n",
            " [ True]\n",
            " [False]\n",
            " [ True]\n",
            " [False]\n",
            " [False]\n",
            " [ True]\n",
            " [False]\n",
            " [False]\n",
            " [False]\n",
            " [ True]\n",
            " [ True]\n",
            " [ True]\n",
            " [ True]\n",
            " [False]\n",
            " [False]\n",
            " [False]\n",
            " [False]\n",
            " [False]\n",
            " [False]\n",
            " [ True]\n",
            " [ True]\n",
            " [ True]\n",
            " [False]\n",
            " [False]\n",
            " [ True]\n",
            " [False]\n",
            " [ True]\n",
            " [ True]\n",
            " [ True]\n",
            " [False]\n",
            " [False]\n",
            " [ True]\n",
            " [False]\n",
            " [ True]\n",
            " [ True]\n",
            " [False]\n",
            " [False]\n",
            " [False]\n",
            " [False]\n",
            " [False]\n",
            " [ True]\n",
            " [ True]\n",
            " [ True]\n",
            " [False]\n",
            " [ True]\n",
            " [False]\n",
            " [False]\n",
            " [False]\n",
            " [ True]\n",
            " [ True]\n",
            " [False]\n",
            " [False]\n",
            " [False]\n",
            " [ True]\n",
            " [False]\n",
            " [False]\n",
            " [ True]\n",
            " [False]\n",
            " [False]\n",
            " [False]\n",
            " [False]\n",
            " [False]\n",
            " [False]\n",
            " [False]\n",
            " [ True]\n",
            " [False]\n",
            " [ True]\n",
            " [False]\n",
            " [False]\n",
            " [False]\n",
            " [False]\n",
            " [ True]\n",
            " [ True]\n",
            " [False]]\n"
          ],
          "name": "stdout"
        }
      ]
    },
    {
      "cell_type": "code",
      "metadata": {
        "id": "sKs6S4UDtbj5",
        "colab_type": "code",
        "colab": {
          "base_uri": "https://localhost:8080/",
          "height": 51
        },
        "outputId": "057bd0c3-1453-4547-b1c8-3f0f76e6011e"
      },
      "source": [
        "# confusion_matrix\n",
        "from sklearn.metrics import confusion_matrix\n",
        "cm=confusion_matrix(y_test,y_pred)\n",
        "print(cm)"
      ],
      "execution_count": 37,
      "outputs": [
        {
          "output_type": "stream",
          "text": [
            "[[66  1]\n",
            " [ 3 44]]\n"
          ],
          "name": "stdout"
        }
      ]
    },
    {
      "cell_type": "code",
      "metadata": {
        "id": "NvxAdtjOtrFU",
        "colab_type": "code",
        "colab": {}
      },
      "source": [
        ""
      ],
      "execution_count": 0,
      "outputs": []
    }
  ]
}